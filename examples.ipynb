{
 "cells": [
  {
   "cell_type": "markdown",
   "metadata": {},
   "source": [
    "\n",
    "# US Jobs Data Project\n",
    "\n",
    "This project downloads and collates/curates data from the US Bureau of Labor Statistics (BLS) using data from the Occupational Employment Statistics (OES) survey. \n",
    "\n",
    "The purpose of this project is to highlight and make accessible the excellent work of the people at BLS.\n",
    "\n",
    "## About the BLS OES dataset\n",
    "\n",
    "The OES dataset is remarkable, containing data for around 1,000 different occupations at national, state, and city levels. Data on numbers of jobs and pay statistics are collected.\n",
    "\n",
    "The BLS does maintain an API which can be accessed by using a free access code: https://www.bls.gov/developers/home.htm.\n",
    "\n",
    "Other than the API, the data from OES is available via Excel spreadsheets from a data download page: https://www.bls.gov/oes/tables.htm \n",
    "\n",
    "The data is also available via a web interface (https://www.bls.gov/oes/current/oes_nat.htm, for example). \n",
    "\n",
    "One benefit of this project is it makes all the data from different years available in one place, easily query-able via a SQLite interface, so that the data can be looked at as a time series, which is a very compelling way to understand these kinds of economic data. \n",
    "\n",
    "## Approach\n",
    "\n",
    "My approach to collating this data is to download all of the excel data files and insert into a SQLite database.\n",
    "\n",
    "## Data consistency\n",
    "\n",
    "The main challenge to interpreting these data as a time series is changing data collection methods over time. For example, occupation codes changed in 2011 from using SOC 2000 codes to SOC 2010 codes. This can be addressed using the crosswalk provided by BLS. Other consistency issues are more difficult. For example Grand Rapids, MI seems to have been redistricted in 2015 as job numbers underwent a step change.\n",
    "\n",
    "Historical records go back to 1988, but changing industry and area codes make curation difficult. \n",
    "\n",
    "The data downloaded encompassed by this project is as follows: state and national data is consistent back to 2001, while metro data goes back to 2005 when metro area codes changed. It may be possible to create a crosswalk to previous metro codes, which will be explored in the future.\n"
   ]
  },
  {
   "cell_type": "markdown",
   "metadata": {},
   "source": [
    "# Using this project\n",
    "\n",
    "The first thing you will need to do is to either download or construct the database.\n",
    "\n",
    "## Download completed database\n",
    "\n",
    "The completed SQLite database file is available for download from Google Drive:\n",
    "\n",
    "## Build database\n",
    "\n",
    "The database may also be constructed as follows:"
   ]
  },
  {
   "cell_type": "code",
   "execution_count": null,
   "metadata": {},
   "outputs": [],
   "source": [
    "python download_and_save.py ## downloads and saves the Excel data files from the BLS website\n",
    "python build_database_OE.py ## makes the SQLite database and inserts some necessary code tables\n",
    "python get_OE_data_from_xlsx.py ## extracts the data from the Excel file and puts in to the SQLite database\n"
   ]
  },
  {
   "cell_type": "markdown",
   "metadata": {},
   "source": [
    "# Querying the database\n",
    "\n",
    "The database is structured around the series code for the OES survey: https://www.bls.gov/help/hlpforma.htm\n",
    "\n",
    "The series code has the following components:\n",
    "\n",
    "+ Area code\n",
    "    + What area (national, state or metro) is the job in.\n",
    "+ Industry code\n",
    "    + What industry the job exists in.\n",
    "+ Occupation code\n",
    "    + The occupation the job exists in.\n",
    "    + Occupation is distinct from industry, for example on might be an accountant (occupation) in the construction industry (industry).\n",
    "+ Data type code\n",
    "    + What quantity are we measuring (number of jobs, median pay, etc).\n",
    "\n",
    "The full series code specifies each of these things and resides in the `series_code` table. \n",
    "\n",
    "Let's say we wanted to get the number of mechanical engineering jobs in Houston for every year available:"
   ]
  },
  {
   "cell_type": "code",
   "execution_count": 2,
   "metadata": {},
   "outputs": [],
   "source": [
    "import sqlite3\n",
    "\n",
    "conn = sqlite3.connect('OE.db') ##\n",
    "query = \"\"\"SELECT v.year,v.value\n",
    "FROM value v --table containing values\n",
    "JOIN series_code sc --table containing series_codes\n",
    "ON sc.code = v.series_code\n",
    "WHERE sc.area_code = 'M0026420' --area_code for Houston\n",
    "AND sc.occupation_code = '172141' --occupation_code for mechanical engineers\n",
    "AND sc.industry_code = '000000' --all industries\n",
    "AND sc.data_type = '01' --number of jobs\n",
    "ORDER BY 1 ASC;\n",
    "\"\"\"\n",
    "cur = conn.execute(query) \n",
    "results = cur.fetchall()"
   ]
  },
  {
   "cell_type": "code",
   "execution_count": 3,
   "metadata": {},
   "outputs": [
    {
     "data": {
      "text/plain": [
       "[(2005, 7300.0),\n",
       " (2006, 7560.0),\n",
       " (2007, 7380.0),\n",
       " (2008, 7510.0),\n",
       " (2009, 7760.0),\n",
       " (2010, 7510.0),\n",
       " (2011, 6730.0),\n",
       " (2012, 7570.0),\n",
       " (2013, 7720.0),\n",
       " (2014, 9260.0),\n",
       " (2015, 8760.0),\n",
       " (2016, 8470.0),\n",
       " (2017, 7530.0),\n",
       " (2018, 8130.0)]"
      ]
     },
     "execution_count": 3,
     "metadata": {},
     "output_type": "execute_result"
    }
   ],
   "source": [
    "results"
   ]
  },
  {
   "cell_type": "markdown",
   "metadata": {},
   "source": [
    "Or let's say we wanted the total number of software dev jobs:"
   ]
  },
  {
   "cell_type": "code",
   "execution_count": 6,
   "metadata": {},
   "outputs": [],
   "source": [
    "conn = sqlite3.connect('OE.db') ##\n",
    "query = \"\"\"SELECT v.year,SUM(v.value)\n",
    "FROM value v --table containing values\n",
    "JOIN series_code sc --table containing series_codes\n",
    "ON sc.code = v.series_code\n",
    "WHERE sc.area_code = 'N0000000' --area_code for whole country\n",
    "AND sc.occupation_code IN ('151131','151132','151133','151134') --occupation_codes for software jobs\n",
    "AND sc.industry_code = '000000' --all industries\n",
    "AND sc.data_type = '01' --number of jobs\n",
    "GROUP BY 1\n",
    "ORDER BY 1 ASC;\n",
    "\"\"\"\n",
    "cur = conn.execute(query) \n",
    "results = cur.fetchall()"
   ]
  },
  {
   "cell_type": "code",
   "execution_count": 7,
   "metadata": {},
   "outputs": [
    {
     "data": {
      "text/plain": [
       "[(2001, 1124760.0),\n",
       " (2002, 1069120.0),\n",
       " (2003, 1109540.0),\n",
       " (2004, 1156000.0),\n",
       " (2005, 1165790.0),\n",
       " (2006, 1197600.0),\n",
       " (2007, 1239660.0),\n",
       " (2008, 1270220.0),\n",
       " (2009, 1248580.0),\n",
       " (2010, 1211820.0),\n",
       " (2011, 1247030.0),\n",
       " (2012, 1397770.0),\n",
       " (2013, 1442500.0),\n",
       " (2014, 1492040.0),\n",
       " (2015, 1554970.0),\n",
       " (2016, 1604560.0),\n",
       " (2017, 1617400.0),\n",
       " (2018, 1666260.0)]"
      ]
     },
     "execution_count": 7,
     "metadata": {},
     "output_type": "execute_result"
    }
   ],
   "source": [
    "results"
   ]
  },
  {
   "cell_type": "markdown",
   "metadata": {},
   "source": [
    "And we can make a plot as follows:"
   ]
  },
  {
   "cell_type": "code",
   "execution_count": 15,
   "metadata": {
    "scrolled": false
   },
   "outputs": [
    {
     "data": {
      "image/png": "[encoded data removed]",
      "text/plain": [
       "<Figure size 432x288 with 1 Axes>"
      ]
     },
     "metadata": {},
     "output_type": "display_data"
    }
   ],
   "source": [
    "%matplotlib inline\n",
    "\n",
    "import matplotlib.pyplot as plt\n",
    "\n",
    "x_data,y_data = list(zip(*results))\n",
    "plt.plot( x_data, y_data )\n",
    "plt.ylim(0,max(y_data)*1.1)\n",
    "plt.xticks([2000,2005,2010,2015,2020])\n",
    "plt.ylabel('Number of jobs')\n",
    "plt.xlabel('Year')\n",
    "plt.show()"
   ]
  },
  {
   "cell_type": "code",
   "execution_count": null,
   "metadata": {},
   "outputs": [],
   "source": []
  }
 ],
 "metadata": {
  "kernelspec": {
   "display_name": "Python 3",
   "language": "python",
   "name": "python3"
  },
  "language_info": {
   "codemirror_mode": {
    "name": "ipython",
    "version": 3
   },
   "file_extension": ".py",
   "mimetype": "text/x-python",
   "name": "python",
   "nbconvert_exporter": "python",
   "pygments_lexer": "ipython3",
   "version": "3.6.5"
  }
 },
 "nbformat": 4,
 "nbformat_minor": 2
}
